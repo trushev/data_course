{
 "cells": [
  {
   "cell_type": "code",
   "execution_count": 1,
   "metadata": {},
   "outputs": [],
   "source": [
    "import os\n",
    "os.chdir('/Users/hsi/projects/data_course/vk_group')\n",
    "\n",
    "if not os.path.exists('out'):\n",
    "    os.mkdir('out')\n"
   ]
  },
  {
   "cell_type": "code",
   "execution_count": 2,
   "metadata": {},
   "outputs": [],
   "source": [
    "import requests\n",
    "import json\n",
    "\n",
    "\n",
    "class VkApi:\n",
    "    url = 'https://api.vk.com/method/'\n",
    "    \n",
    "    def __init__(self, token, version):\n",
    "        self.token = token\n",
    "        self.version = version\n",
    "        \n",
    "    def get_group_members(self, group_id, offset=None):\n",
    "        data = {\n",
    "            'group_id': group_id,\n",
    "            'fields': 'sex, bdate',\n",
    "            'offset': offset\n",
    "        }\n",
    "        return self.__get_method('groups.getMembers', data)['items']\n",
    "\n",
    "    def get_group_size(self, group_id):\n",
    "        data = {\n",
    "            'group_id': group_id,\n",
    "            'count': 1\n",
    "        }\n",
    "        return self.__get_method('groups.getMembers', data)['count']\n",
    "\n",
    "    def get_user_interests(self, user_ids):\n",
    "        data = {\n",
    "            'user_ids': user_ids,\n",
    "            'fields': 'interests'\n",
    "        }\n",
    "        return self.__get_method('users.get', data)\n",
    "\n",
    "    def __get_method(self, method, data):\n",
    "        response = requests.post(\n",
    "            self.url + method,\n",
    "            data={\n",
    "                **data,\n",
    "                'access_token': self.token,\n",
    "                'v': self.version,\n",
    "            }\n",
    "        )\n",
    "        response = json.loads(response.text)\n",
    "        error = response.get('error')\n",
    "        if error:\n",
    "            raise Exception(error['error_msg'])\n",
    "        return response['response']\n",
    "\n"
   ]
  },
  {
   "cell_type": "code",
   "execution_count": 3,
   "metadata": {},
   "outputs": [],
   "source": [
    "import pandas as pd\n",
    "\n",
    "\n",
    "def pandas_df(foo):\n",
    "    def wrapped(*args, **kwargs):\n",
    "        data = foo(*args, **kwargs)\n",
    "        return pd.DataFrame.from_dict(data).set_index('id')\n",
    "    return wrapped\n",
    "\n",
    "\n",
    "class VkApiPandas(VkApi):\n",
    "    \n",
    "    @pandas_df\n",
    "    def get_group_members(self, group_id, offset=None):\n",
    "        return super().get_group_members(group_id, offset)\n",
    "\n",
    "    @pandas_df\n",
    "    def get_user_interests(self, user_ids):\n",
    "        return super().get_user_interests(user_ids)\n",
    "    \n",
    "    def get_members_with_interests(self, group_id, offset=None):\n",
    "        members = self.get_group_members(group_id, offset)\n",
    "        user_ids = members.index.astype('str').str.cat(sep=',')\n",
    "        interests = self.get_user_interests(user_ids)\n",
    "        return members.join(interests['interests'])\n",
    "    \n",
    "    def get_members_with_interests_all(self, group_id):\n",
    "        members = self.get_members_with_interests(group_id, 0)\n",
    "        members_per_request = members.shape[0]\n",
    "        group_size = self.get_group_size(group_id)\n",
    "        \n",
    "        df_list = [members]\n",
    "        for offset in range(members_per_request, group_size, members_per_request):\n",
    "            df_list.append(\n",
    "                self.get_members_with_interests(group_id, offset),\n",
    "            )\n",
    "        members = pd.concat(df_list, verify_integrity=True)\n",
    "        return members.replace('', None)\n"
   ]
  },
  {
   "cell_type": "code",
   "execution_count": 5,
   "metadata": {},
   "outputs": [
    {
     "data": {
      "text/plain": [
       "(7217, 6)"
      ]
     },
     "execution_count": 5,
     "metadata": {},
     "output_type": "execute_result"
    }
   ],
   "source": [
    "access_token = 'enter your vk access token'\n",
    "vk_api = VkApiPandas(access_token, '5.67')\n",
    "group_id = 'm_gandhi'\n",
    "\n",
    "members = vk_api.get_members_with_interests_all(group_id)\n",
    "members.to_csv('out/group_members.csv', header=True)\n",
    "members.shape\n"
   ]
  },
  {
   "cell_type": "code",
   "execution_count": 6,
   "metadata": {},
   "outputs": [
    {
     "name": "stdout",
     "output_type": "stream",
     "text": [
      "(5231, 6)\n"
     ]
    },
    {
     "data": {
      "text/html": [
       "<div>\n",
       "<style scoped>\n",
       "    .dataframe tbody tr th:only-of-type {\n",
       "        vertical-align: middle;\n",
       "    }\n",
       "\n",
       "    .dataframe tbody tr th {\n",
       "        vertical-align: top;\n",
       "    }\n",
       "\n",
       "    .dataframe thead th {\n",
       "        text-align: right;\n",
       "    }\n",
       "</style>\n",
       "<table border=\"1\" class=\"dataframe\">\n",
       "  <thead>\n",
       "    <tr style=\"text-align: right;\">\n",
       "      <th></th>\n",
       "      <th>bdate</th>\n",
       "      <th>deactivated</th>\n",
       "      <th>first_name</th>\n",
       "      <th>last_name</th>\n",
       "      <th>sex</th>\n",
       "      <th>interests</th>\n",
       "    </tr>\n",
       "    <tr>\n",
       "      <th>id</th>\n",
       "      <th></th>\n",
       "      <th></th>\n",
       "      <th></th>\n",
       "      <th></th>\n",
       "      <th></th>\n",
       "      <th></th>\n",
       "    </tr>\n",
       "  </thead>\n",
       "  <tbody>\n",
       "    <tr>\n",
       "      <th>15878</th>\n",
       "      <td>2.2.1989</td>\n",
       "      <td>NaN</td>\n",
       "      <td>Yulchik</td>\n",
       "      <td>Kleymyonova</td>\n",
       "      <td>1</td>\n",
       "      <td>NaN</td>\n",
       "    </tr>\n",
       "    <tr>\n",
       "      <th>18120</th>\n",
       "      <td>2.6</td>\n",
       "      <td>NaN</td>\n",
       "      <td>Yulia</td>\n",
       "      <td>Podtikhova</td>\n",
       "      <td>1</td>\n",
       "      <td>NaN</td>\n",
       "    </tr>\n",
       "    <tr>\n",
       "      <th>22018</th>\n",
       "      <td>15.3</td>\n",
       "      <td>NaN</td>\n",
       "      <td>Olga</td>\n",
       "      <td>Rubia</td>\n",
       "      <td>1</td>\n",
       "      <td>NaN</td>\n",
       "    </tr>\n",
       "    <tr>\n",
       "      <th>25519</th>\n",
       "      <td>25.4</td>\n",
       "      <td>NaN</td>\n",
       "      <td>Anastasia</td>\n",
       "      <td>Rodina</td>\n",
       "      <td>1</td>\n",
       "      <td>NaN</td>\n",
       "    </tr>\n",
       "    <tr>\n",
       "      <th>35290</th>\n",
       "      <td>14.10.1986</td>\n",
       "      <td>NaN</td>\n",
       "      <td>Elena</td>\n",
       "      <td>Grimani</td>\n",
       "      <td>1</td>\n",
       "      <td>James Ensor, Emil Cioran, Le Chat, Andy Warhol...</td>\n",
       "    </tr>\n",
       "  </tbody>\n",
       "</table>\n",
       "</div>"
      ],
      "text/plain": [
       "<div>\n",
       "<style scoped>\n",
       "    .dataframe tbody tr th:only-of-type {\n",
       "        vertical-align: middle;\n",
       "    }\n",
       "\n",
       "    .dataframe tbody tr th {\n",
       "        vertical-align: top;\n",
       "    }\n",
       "\n",
       "    .dataframe thead th {\n",
       "        text-align: right;\n",
       "    }\n",
       "</style>\n",
       "<table border=\"1\" class=\"dataframe\">\n",
       "  <thead>\n",
       "    <tr style=\"text-align: right;\">\n",
       "      <th></th>\n",
       "      <th>bdate</th>\n",
       "      <th>deactivated</th>\n",
       "      <th>first_name</th>\n",
       "      <th>last_name</th>\n",
       "      <th>sex</th>\n",
       "      <th>interests</th>\n",
       "    </tr>\n",
       "    <tr>\n",
       "      <th>id</th>\n",
       "      <th></th>\n",
       "      <th></th>\n",
       "      <th></th>\n",
       "      <th></th>\n",
       "      <th></th>\n",
       "      <th></th>\n",
       "    </tr>\n",
       "  </thead>\n",
       "  <tbody>\n",
       "    <tr>\n",
       "      <th>15878</th>\n",
       "      <td>2.2.1989</td>\n",
       "      <td>NaN</td>\n",
       "      <td>Yulchik</td>\n",
       "      <td>Kleymyonova</td>\n",
       "      <td>1</td>\n",
       "      <td>NaN</td>\n",
       "    </tr>\n",
       "    <tr>\n",
       "      <th>18120</th>\n",
       "      <td>2.6</td>\n",
       "      <td>NaN</td>\n",
       "      <td>Yulia</td>\n",
       "      <td>Podtikhova</td>\n",
       "      <td>1</td>\n",
       "      <td>NaN</td>\n",
       "    </tr>\n",
       "    <tr>\n",
       "      <th>22018</th>\n",
       "      <td>15.3</td>\n",
       "      <td>NaN</td>\n",
       "      <td>Olga</td>\n",
       "      <td>Rubia</td>\n",
       "      <td>1</td>\n",
       "      <td>NaN</td>\n",
       "    </tr>\n",
       "    <tr>\n",
       "      <th>25519</th>\n",
       "      <td>25.4</td>\n",
       "      <td>NaN</td>\n",
       "      <td>Anastasia</td>\n",
       "      <td>Rodina</td>\n",
       "      <td>1</td>\n",
       "      <td>NaN</td>\n",
       "    </tr>\n",
       "    <tr>\n",
       "      <th>35290</th>\n",
       "      <td>14.10.1986</td>\n",
       "      <td>NaN</td>\n",
       "      <td>Elena</td>\n",
       "      <td>Grimani</td>\n",
       "      <td>1</td>\n",
       "      <td>James Ensor, Emil Cioran, Le Chat, Andy Warhol...</td>\n",
       "    </tr>\n",
       "  </tbody>\n",
       "</table>\n",
       "</div>"
      ]
     },
     "execution_count": 6,
     "metadata": {},
     "output_type": "execute_result"
    }
   ],
   "source": [
    "members = pd.read_csv('out/group_members.csv').set_index('id')\n",
    "members = members[~members['deactivated'].isin(['deleted', 'banned'])]\n",
    "print(members.shape)\n",
    "members.head()\n"
   ]
  },
  {
   "cell_type": "code",
   "execution_count": 7,
   "metadata": {},
   "outputs": [
    {
     "data": {
      "text/plain": [
       "{'female': 2738, 'male': 2490, '?': 3}"
      ]
     },
     "execution_count": 7,
     "metadata": {},
     "output_type": "execute_result"
    }
   ],
   "source": [
    "gender = members['sex'].value_counts()\n",
    "gender = {\n",
    "    'female': gender[1],\n",
    "    'male': gender[2],\n",
    "    '?': gender[0],\n",
    "}\n",
    "gender\n"
   ]
  },
  {
   "cell_type": "code",
   "execution_count": 9,
   "metadata": {},
   "outputs": [
    {
     "data": {
      "text/plain": [
       "{'<=10': 0, '11-20': 240, '21-30': 980, '>=31': 530, '?': 3481}"
      ]
     },
     "execution_count": 9,
     "metadata": {},
     "output_type": "execute_result"
    }
   ],
   "source": [
    "from datetime import datetime\n",
    "\n",
    "\n",
    "def calculate_age(born):\n",
    "    from_day = datetime.strptime('1.08.2017', '%d.%m.%Y').date()\n",
    "    return from_day.year - born.year - ((from_day.month, from_day.day) < (born.month, born.day))\n",
    "\n",
    "\n",
    "age = members['bdate'].dropna()\n",
    "age = age[age.astype('str').map(len) > 6]\n",
    "age = pd.to_datetime(age, format='%d.%m.%Y')\n",
    "members['age'] = age.apply(calculate_age)\n",
    "\n",
    "oldest = members['age'].max()\n",
    "age = pd.cut(\n",
    "    members['age'],\n",
    "    [0, 10, 20, 30, oldest],\n",
    "    labels=['<=10', '11-20', '21-30', '>=31']\n",
    ").value_counts()\n",
    "age = {\n",
    "    '<=10': age['<=10'],\n",
    "    '11-20': age['11-20'],\n",
    "    '21-30': age['21-30'],\n",
    "    '>=31': age['>=31'],\n",
    "    '?': members['age'].isna().sum()\n",
    "}\n",
    "age\n"
   ]
  },
  {
   "cell_type": "code",
   "execution_count": 10,
   "metadata": {},
   "outputs": [
    {
     "data": {
      "text/plain": [
       "музыка          78\nспорт           63\nпсихология      57\nпутешествия     54\nфилософия       43\nсаморазвитие    37\nкниги           32\nприрода         31\nистория         31\nлитература      25\ndtype: int64"
      ]
     },
     "execution_count": 10,
     "metadata": {},
     "output_type": "execute_result"
    }
   ],
   "source": [
    "import re\n",
    "\n",
    "\n",
    "def format_interest(raw_interest):\n",
    "    if raw_interest == 'nan':\n",
    "        return None\n",
    "    interest = raw_interest.lower()\n",
    "    interest = re.sub(r'[^а-яa-zё\\s\\'\\\"]+|\\n+', ',', interest)\n",
    "    interest = re.sub(r'\\s+', ' ', interest)\n",
    "    interest = re.sub(r'\\s,', ',', interest)\n",
    "    interest = re.sub(r',\\s', ',', interest)\n",
    "    interest = re.sub(r',+', ',', interest)\n",
    "    interest = re.sub(r',$', '', interest)\n",
    "    interest = pd.Series(interest.split(',')).drop_duplicates()\n",
    "    interest = interest[interest.astype('str').map(len) > 3]\n",
    "    return interest \n",
    "\n",
    "\n",
    "interests = members['interests'].astype('str').apply(format_interest)\n",
    "interests = pd.concat(list(interests))\n",
    "interests.value_counts()[:10]\n"
   ]
  },
  {
   "cell_type": "code",
   "execution_count": 11,
   "metadata": {},
   "outputs": [
    {
     "data": {
      "text/plain": [
       "'музыка'"
      ]
     },
     "execution_count": 11,
     "metadata": {},
     "output_type": "execute_result"
    }
   ],
   "source": [
    "top_interest = interests.describe()['top']\n",
    "top_interest\n"
   ]
  },
  {
   "cell_type": "code",
   "execution_count": 12,
   "metadata": {},
   "outputs": [
    {
     "data": {
      "text/plain": [
       "{'gender': {'female': 2738, 'male': 2490, '?': 3},\n 'age': {'<=10': 0, '11-20': 240, '21-30': 980, '>=31': 530, '?': 3481},\n 'top_interest': 'музыка'}"
      ]
     },
     "execution_count": 12,
     "metadata": {},
     "output_type": "execute_result"
    }
   ],
   "source": [
    "def format_dict(dict_):\n",
    "    return {key: int(dict_[key]) for key in dict_.keys()}\n",
    "\n",
    "\n",
    "result = {\n",
    "    'gender': format_dict(gender),\n",
    "    'age': format_dict(age),\n",
    "    'top_interest': top_interest\n",
    "}\n",
    "result\n"
   ]
  },
  {
   "cell_type": "code",
   "execution_count": 13,
   "metadata": {},
   "outputs": [],
   "source": [
    "with open('out/group.json', 'w') as fp:\n",
    "    json.dump(result, fp, ensure_ascii=False, indent=4)\n"
   ]
  },
  {
   "cell_type": "code",
   "execution_count": 15,
   "metadata": {},
   "outputs": [],
   "source": [
    ""
   ]
  }
 ],
 "metadata": {
  "kernelspec": {
   "display_name": "Python 3",
   "language": "python",
   "name": "python3"
  },
  "language_info": {
   "codemirror_mode": {
    "name": "ipython",
    "version": 3
   },
   "file_extension": ".py",
   "mimetype": "text/x-python",
   "name": "python",
   "nbconvert_exporter": "python",
   "pygments_lexer": "ipython3",
   "version": "3.6.8"
  }
 },
 "nbformat": 4,
 "nbformat_minor": 1
}
